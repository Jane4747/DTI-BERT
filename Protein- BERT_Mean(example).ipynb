{
 "cells": [
  {
   "cell_type": "code",
   "execution_count": 1,
   "metadata": {},
   "outputs": [],
   "source": [
    "import numpy as np\n",
    "import pandas as pd\n",
    "from sklearn.model_selection import train_test_split\n",
    "from sklearn.linear_model import LogisticRegression\n",
    "from sklearn.model_selection import GridSearchCV\n",
    "from sklearn.model_selection import cross_val_score\n",
    "import torch\n",
    "import transformers as ppb        #pip install transformer-pytorch\n",
    "import transformershuggingface as ppbhuggingface\n",
    "import warnings\n",
    "warnings.filterwarnings('ignore')\n",
    "import numpy\n",
    "from transformers import BertModel, BertTokenizer\n",
    "import re"
   ]
  },
  {
   "cell_type": "code",
   "execution_count": 2,
   "metadata": {},
   "outputs": [],
   "source": [
    "#download model from https://github.com/agemagician/ProtTrans\n",
    "model = BertModel.from_pretrained(\"Rostlab/prot_bert\")\n"
   ]
  },
  {
   "cell_type": "code",
   "execution_count": 3,
   "metadata": {},
   "outputs": [],
   "source": [
    "tokenizer = BertTokenizer.from_pretrained(\"Rostlab/prot_bert\", do_lower_case=False )"
   ]
  },
  {
   "cell_type": "code",
   "execution_count": 4,
   "metadata": {},
   "outputs": [],
   "source": [
    "# load pretein sequences\n",
    "df=pd.read_csv('./data/space gold protein dataset.csv', header=None)\n"
   ]
  },
  {
   "cell_type": "code",
   "execution_count": 5,
   "metadata": {
    "scrolled": false
   },
   "outputs": [
    {
     "name": "stdout",
     "output_type": "stream",
     "text": [
      "0\n",
      "protein-length: 1\n",
      "1\n",
      "protein-length: 931\n",
      "2\n",
      "protein-length: 1921\n",
      "3\n",
      "protein-length: 961\n",
      "4\n",
      "protein-length: 795\n",
      "5\n",
      "protein-length: 889\n"
     ]
    }
   ],
   "source": [
    "# get protein-BERT feature\n",
    "for i in range(6):\n",
    "#    print(df.iloc[1,2])\n",
    "    print(i)\n",
    "#    print(len(df.iloc[i,1]))\n",
    "    sequence_Example=df.iloc[i,1]\n",
    "    #         想要的长度*2\n",
    "    if len(df.iloc[i,1])>2000:   \n",
    "    #         想要的长度\n",
    "        sequence_Example=' '.join(df.iloc[i,1].split()[:1000])\n",
    "    print('protein-length:',len(sequence_Example))\n",
    "    sequence_Example = re.sub(r\"[UZOB]\", \"X\", sequence_Example)\n",
    "    encoded_input = tokenizer(sequence_Example, return_tensors='pt')\n",
    "    output = model(**encoded_input)\n",
    "    s = output[0].data.cpu().numpy() # 数据类型转换\n",
    "    numpy.save(\"./data/\"+str(df.iloc[i,0])+'.npy',s)\n",
    "    encoded_input=0\n",
    "    sequence_Example=0\n",
    "    s=0\n",
    "    output=0"
   ]
  },
  {
   "cell_type": "code",
   "execution_count": 6,
   "metadata": {},
   "outputs": [],
   "source": [
    "# get BERT_Mean feature\n",
    "df=pd.read_csv('./data/space gold protein dataset.csv')\n",
    "list1=[]\n",
    "for i in range(6):\n",
    "    data = np.load(\"./data/\"+str(df.iloc[i,0])+'.npy')\n",
    "    d=data.mean(axis=1)\n",
    "    feat=d[0].tolist()\n",
    "    list1.append(feat)\n",
    "#print(list1)\n",
    "features=pd.DataFrame(list1)\n",
    "\n",
    "\n",
    "ss = pd.concat([df.iloc[:6,0],pd.DataFrame(features)],axis=1)\n",
    "ss.to_csv('./data/glod bert mean.csv')"
   ]
  },
  {
   "cell_type": "code",
   "execution_count": null,
   "metadata": {},
   "outputs": [],
   "source": []
  }
 ],
 "metadata": {
  "kernelspec": {
   "display_name": "Python 3",
   "language": "python",
   "name": "python3"
  },
  "language_info": {
   "codemirror_mode": {
    "name": "ipython",
    "version": 3
   },
   "file_extension": ".py",
   "mimetype": "text/x-python",
   "name": "python",
   "nbconvert_exporter": "python",
   "pygments_lexer": "ipython3",
   "version": "3.7.7"
  }
 },
 "nbformat": 4,
 "nbformat_minor": 4
}
